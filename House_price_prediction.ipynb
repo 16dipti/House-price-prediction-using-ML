{
  "nbformat": 4,
  "nbformat_minor": 0,
  "metadata": {
    "colab": {
      "provenance": []
    },
    "kernelspec": {
      "name": "python3",
      "display_name": "Python 3"
    },
    "language_info": {
      "name": "python"
    }
  },
  "cells": [
    {
      "cell_type": "code",
      "execution_count": null,
      "metadata": {
        "id": "kWOvKAsffVDL"
      },
      "outputs": [],
      "source": [
        "import pandas as pd\n",
        "from sklearn.model_selection import train_test_split\n",
        "from sklearn.impute import SimpleImputer\n",
        "from sklearn.preprocessing import MinMaxScaler, OneHotEncoder\n",
        "from sklearn.linear_model import Ridge\n",
        "from sklearn.metrics import mean_squared_error\n",
        "\n",
        "# read the dataset\n",
        "house_df = pd.read_csv('train.csv')\n",
        "\n",
        "#identify input and target column\n",
        "input_cols = list(house_df.columns)[1:-1]\n",
        "target_cols = 'SalePrice'\n",
        "\n",
        "input_df = house_df[input_cols].copy()\n",
        "targets = house_df[target_cols]\n",
        "\n",
        "#numeric_cols and categorical_cols separated\n",
        "import numpy as np\n",
        "\n",
        "numeric_cols = input_df.select_dtypes(include=np.number).columns.tolist()\n",
        "category_cols = input_df.select_dtypes('object').columns.tolist()\n",
        "\n",
        "#fill the missing value by imputer\n",
        "imputer = SimpleImputer(strategy='mean').fit(input_df[numeric_cols])\n",
        "input_df[numeric_cols] = imputer.transform(input_df[numeric_cols])\n",
        "\n",
        "#scale the value between 0 to 1\n",
        "scaler = MinMaxScaler().fit(input_df[numeric_cols])\n",
        "input_df[numeric_cols] = scaler.transform(input_df[numeric_cols])\n",
        "\n",
        "#converted categorical column to numerical column\n",
        "encoder = OneHotEncoder(sparse=False, handle_unknown='ignore').fit(input_df[category_cols].fillna('unknown'))\n",
        "encoded_cols = list(encoder.get_feature_names_out(category_cols))\n",
        "input_df[encoded_cols] = encoder.transform(input_df[category_cols])"
      ]
    },
    {
      "cell_type": "code",
      "source": [
        "#split the train val data\n",
        "train_inputs, val_inputs, train_targets, val_targets = train_test_split(input_df[numeric_cols + encoded_cols],\n",
        "                                                                        targets,\n",
        "                                                                        test_size=0.25,\n",
        "                                                                        random_state=42)\n",
        "\n",
        "#train the model\n",
        "model = Ridge().fit(train_inputs, train_targets)\n",
        "\n",
        "#prediction the train model\n",
        "train_preds = model.predict(train_inputs)\n",
        "train_preds"
      ],
      "metadata": {
        "colab": {
          "base_uri": "https://localhost:8080/"
        },
        "id": "Pyx27tTJo3g0",
        "outputId": "33157279-a116-4995-e491-ae77f720a0e5"
      },
      "execution_count": 72,
      "outputs": [
        {
          "output_type": "execute_result",
          "data": {
            "text/plain": [
              "array([172599.43235557, 175802.15443601, 104368.76915641, ...,\n",
              "       121535.1721255 , 173830.94792569, 190771.98152057])"
            ]
          },
          "metadata": {},
          "execution_count": 72
        }
      ]
    },
    {
      "cell_type": "code",
      "source": [
        "#prediction the val model\n",
        "\n",
        "model = Ridge().fit(val_inputs, val_targets)\n",
        "val_pred = model.predict(val_inputs)\n",
        "val_pred"
      ],
      "metadata": {
        "id": "0KZFsDGGpqNj"
      },
      "execution_count": null,
      "outputs": []
    },
    {
      "cell_type": "code",
      "source": [
        "#calculate rmse loss\n",
        "\n",
        "train_rmse = mean_squared_error(train_targets, train_preds, squared=False)\n",
        "val_rmse = mean_squared_error(val_targets, val_pred, squared=False)\n",
        "\n",
        "print(train_rmse)\n",
        "print(val_rmse)"
      ],
      "metadata": {
        "colab": {
          "base_uri": "https://localhost:8080/"
        },
        "id": "gdMhBZ1XqTWf",
        "outputId": "c461a263-83c0-4a86-a0a3-7f5e8d845f3f"
      },
      "execution_count": 74,
      "outputs": [
        {
          "output_type": "stream",
          "name": "stdout",
          "text": [
            "21885.980021843327\n",
            "17804.58029618141\n"
          ]
        }
      ]
    },
    {
      "cell_type": "code",
      "source": [
        "def predict_input(single_input):\n",
        "    input_df = pd.DataFrame([single_input])\n",
        "    input_df[numeric_cols] = imputer.transform(input_df[numeric_cols])\n",
        "    input_df[numeric_cols] = scaler.transform(input_df[numeric_cols])\n",
        "    input_df[encoded_cols] = encoder.transform(input_df[category_cols].values)\n",
        "    X_input = input_df[numeric_cols + encoded_cols]\n",
        "    return model.predict(X_input)[0]"
      ],
      "metadata": {
        "id": "0JgQFnnhujPE"
      },
      "execution_count": 78,
      "outputs": []
    },
    {
      "cell_type": "code",
      "source": [
        "sample_input = { 'MSSubClass': 20, 'MSZoning': 'RL', 'LotFrontage': 77.0, 'LotArea': 9320,\n",
        " 'Street': 'Pave', 'Alley': None, 'LotShape': 'IR1', 'LandContour': 'Lvl', 'Utilities': 'AllPub',\n",
        " 'LotConfig': 'Inside', 'LandSlope': 'Gtl', 'Neighborhood': 'NAmes', 'Condition1': 'Norm', 'Condition2': 'Norm',\n",
        " 'BldgType': '1Fam', 'HouseStyle': '1Story', 'OverallQual': 4, 'OverallCond': 5, 'YearBuilt': 1959,\n",
        " 'YearRemodAdd': 1959, 'RoofStyle': 'Gable', 'RoofMatl': 'CompShg', 'Exterior1st': 'Plywood',\n",
        " 'Exterior2nd': 'Plywood', 'MasVnrType': 'None','MasVnrArea': 0.0,'ExterQual': 'TA','ExterCond': 'TA',\n",
        " 'Foundation': 'CBlock','BsmtQual': 'TA','BsmtCond': 'TA','BsmtExposure': 'No','BsmtFinType1': 'ALQ',\n",
        " 'BsmtFinSF1': 569,'BsmtFinType2': 'Unf','BsmtFinSF2': 0,'BsmtUnfSF': 381,\n",
        " 'TotalBsmtSF': 950,'Heating': 'GasA','HeatingQC': 'Fa','CentralAir': 'Y','Electrical': 'SBrkr', '1stFlrSF': 1225,\n",
        " '2ndFlrSF': 0, 'LowQualFinSF': 0, 'GrLivArea': 1225, 'BsmtFullBath': 1, 'BsmtHalfBath': 0, 'FullBath': 1,\n",
        " 'HalfBath': 1, 'BedroomAbvGr': 3, 'KitchenAbvGr': 1,'KitchenQual': 'TA','TotRmsAbvGrd': 6,'Functional': 'Typ',\n",
        " 'Fireplaces': 0,'FireplaceQu': np.nan,'GarageType': np.nan,'GarageYrBlt': np.nan,'GarageFinish': np.nan,'GarageCars': 0,\n",
        " 'GarageArea': 0,'GarageQual': np.nan,'GarageCond': np.nan,'PavedDrive': 'Y', 'WoodDeckSF': 352, 'OpenPorchSF': 0,\n",
        " 'EnclosedPorch': 0,'3SsnPorch': 0, 'ScreenPorch': 0, 'PoolArea': 0, 'PoolQC': np.nan, 'Fence': np.nan, 'MiscFeature': 'Shed',\n",
        " 'MiscVal': 400, 'MoSold': 1, 'YrSold': 2010, 'SaleType': 'WD', 'SaleCondition': 'Normal'}"
      ],
      "metadata": {
        "id": "mSaPGzyIvO08"
      },
      "execution_count": 79,
      "outputs": []
    },
    {
      "cell_type": "code",
      "source": [
        "predicted_price = predict_input(sample_input)\n",
        "predicted_price"
      ],
      "metadata": {
        "id": "4D5ryQJmvQbU"
      },
      "execution_count": null,
      "outputs": []
    },
    {
      "cell_type": "code",
      "source": [
        "print('The predicted sale price of the house is ${}'.format(predicted_price))"
      ],
      "metadata": {
        "colab": {
          "base_uri": "https://localhost:8080/"
        },
        "id": "NddNcWjGvSCG",
        "outputId": "3666153e-8530-44f8-9b68-fc9ef697d64e"
      },
      "execution_count": 82,
      "outputs": [
        {
          "output_type": "stream",
          "name": "stdout",
          "text": [
            "The predicted sale price of the house is $118955.48078837915\n"
          ]
        }
      ]
    },
    {
      "cell_type": "code",
      "source": [],
      "metadata": {
        "id": "NN6ib3OZvd7r"
      },
      "execution_count": null,
      "outputs": []
    }
  ]
}